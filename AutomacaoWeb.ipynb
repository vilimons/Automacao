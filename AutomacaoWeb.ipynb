{
 "cells": [
  {
   "cell_type": "markdown",
   "metadata": {},
   "source": [
    "# Atualizar dados de uma tabela com Web Scraping e Automação\n",
    "\n",
    "- Criaremos uma automação web capaz de pegar a cotação atual de 3 valores distintos e atualizar o valor dos produtos com base nessas cotações.\n",
    "- Iremos usar a cotação do Dólar, cotação do Euro e cotação do Ouro."
   ]
  },
  {
   "cell_type": "code",
   "execution_count": 11,
   "metadata": {},
   "outputs": [],
   "source": [
    "from selenium import webdriver\n",
    "from selenium.webdriver.common.keys import Keys\n",
    "from selenium.webdriver.common.by import By\n",
    "import pandas as pd\n",
    "\n",
    "navegador = webdriver.Edge()\n",
    "\n",
    "# Passo 5: Calcular os novos preços e salvar/exportar a base de dados\n"
   ]
  },
  {
   "cell_type": "markdown",
   "metadata": {},
   "source": [
    "### A automação pesquisa no Google os valores mencionados acima e salva cada valor em um objeto próprio."
   ]
  },
  {
   "cell_type": "code",
   "execution_count": 12,
   "metadata": {},
   "outputs": [
    {
     "name": "stdout",
     "output_type": "stream",
     "text": [
      "5.2661999999999995\n"
     ]
    }
   ],
   "source": [
    "# Passo 1: Pegar a cotação do Dólar\n",
    "navegador.get(\"https://www.google.com.br\")\n",
    "\n",
    "navegador.find_element(By.XPATH, '/html/body/div[1]/div[3]/form/div[1]/div[1]/div[1]/div/div[2]/input').send_keys(\"cotação dólar\")\n",
    "\n",
    "navegador.find_element(By.XPATH, '/html/body/div[1]/div[3]/form/div[1]/div[1]/div[1]/div/div[2]/input').send_keys(Keys.ENTER)\n",
    "\n",
    "cotacao_dolar = navegador.find_element(By.XPATH, '//*[@id=\"knowledge-currency__updatable-data-column\"]/div[1]/div[2]/span[1]').get_attribute('data-value')\n",
    "\n",
    "print(cotacao_dolar)"
   ]
  },
  {
   "cell_type": "code",
   "execution_count": 13,
   "metadata": {},
   "outputs": [
    {
     "name": "stdout",
     "output_type": "stream",
     "text": [
      "5.93632395\n"
     ]
    }
   ],
   "source": [
    "# Passo 2: Pegar a cotação do Euro\n",
    "navegador.get(\"https://www.google.com.br\")\n",
    "\n",
    "navegador.find_element(By.XPATH, '/html/body/div[1]/div[3]/form/div[1]/div[1]/div[1]/div/div[2]/input').send_keys(\"cotação euro\")\n",
    "\n",
    "navegador.find_element(By.XPATH, '/html/body/div[1]/div[3]/form/div[1]/div[1]/div[1]/div/div[2]/input').send_keys(Keys.ENTER)\n",
    "\n",
    "cotacao_euro = navegador.find_element(By.XPATH, '//*[@id=\"knowledge-currency__updatable-data-column\"]/div[1]/div[2]/span[1]').get_attribute('data-value')\n",
    "\n",
    "print(cotacao_euro)"
   ]
  },
  {
   "cell_type": "code",
   "execution_count": 14,
   "metadata": {},
   "outputs": [
    {
     "name": "stdout",
     "output_type": "stream",
     "text": [
      "304.94\n"
     ]
    }
   ],
   "source": [
    "# Passo 3: Pegar a cotação do Ouro\n",
    "\n",
    "navegador.get(\"https://www.melhorcambio.com/ouro-hoje\")\n",
    "\n",
    "cotacao_ouro = navegador.find_element(By.XPATH, '//*[@id=\"comercial\"]').get_attribute('value')\n",
    "cotacao_ouro = cotacao_ouro.replace(\",\", \".\")\n",
    "\n",
    "print(cotacao_ouro)"
   ]
  },
  {
   "cell_type": "markdown",
   "metadata": {},
   "source": [
    "#### Utilizando o pandas, importaremos a tabela que será atualizada."
   ]
  },
  {
   "cell_type": "code",
   "execution_count": 15,
   "metadata": {},
   "outputs": [
    {
     "name": "stdout",
     "output_type": "stream",
     "text": [
      "         Produtos  Preço Original  Moeda  Cotação  Preço de Compra  Margem  \\\n",
      "0    Câmera Canon          999.99  Dólar        5          4999.95    1.40   \n",
      "1   Carro Renault         4500.00   Euro        6         27000.00    2.00   \n",
      "2   Notebook Dell          899.99  Dólar        5          4499.95    1.70   \n",
      "3          IPhone          799.00  Dólar        5          3995.00    1.70   \n",
      "4      Carro Fiat         3000.00   Euro        6         18000.00    1.90   \n",
      "5  Celular Xiaomi          480.48  Dólar        5          2402.40    2.00   \n",
      "6        Joia 20g           20.00   Ouro      350          7000.00    1.15   \n",
      "\n",
      "   Preço de Venda  \n",
      "0        6999.930  \n",
      "1       54000.000  \n",
      "2        7649.915  \n",
      "3        6791.500  \n",
      "4       34200.000  \n",
      "5        4804.800  \n",
      "6        8050.000  \n"
     ]
    }
   ],
   "source": [
    "# Passo 4: Importar base de dados\n",
    "\n",
    "tabela = pd.read_excel(r'C:\\Users\\Vitor\\Desktop\\Projetos\\Automacao\\Produtos.xlsx')\n",
    "\n",
    "print(tabela)"
   ]
  },
  {
   "cell_type": "markdown",
   "metadata": {},
   "source": [
    "#### Atualizando a tabela com a cotação atual de cada valor."
   ]
  },
  {
   "cell_type": "code",
   "execution_count": 16,
   "metadata": {},
   "outputs": [],
   "source": [
    "# Passo 5 Calcular os novos preços e salvar/exportar a base de dados\n",
    "\n",
    "tabela.loc[tabela['Moeda'] == 'Dólar', 'Cotação'] = float(cotacao_dolar)\n",
    "tabela.loc[tabela['Moeda'] == 'Euro', 'Cotação'] = float(cotacao_euro)\n",
    "tabela.loc[tabela['Moeda'] == 'Ouro', 'Cotação'] = float(cotacao_ouro)"
   ]
  },
  {
   "cell_type": "markdown",
   "metadata": {},
   "source": [
    "#### Atualizando as colunas e realizando o cálculo entre os produtos e as moedas com valores atualizados."
   ]
  },
  {
   "cell_type": "code",
   "execution_count": 17,
   "metadata": {},
   "outputs": [
    {
     "name": "stdout",
     "output_type": "stream",
     "text": [
      "         Produtos  Preço Original  Moeda     Cotação  Preço de Compra  Margem  \\\n",
      "0    Câmera Canon          999.99  Dólar    5.266200      5266.147338    1.40   \n",
      "1   Carro Renault         4500.00   Euro    5.936324     26713.457775    2.00   \n",
      "2   Notebook Dell          899.99  Dólar    5.266200      4739.527338    1.70   \n",
      "3          IPhone          799.00  Dólar    5.266200      4207.693800    1.70   \n",
      "4      Carro Fiat         3000.00   Euro    5.936324     17808.971850    1.90   \n",
      "5  Celular Xiaomi          480.48  Dólar    5.266200      2530.303776    2.00   \n",
      "6        Joia 20g           20.00   Ouro  304.940000      6098.800000    1.15   \n",
      "\n",
      "   Preço de Venda  \n",
      "0     7372.606273  \n",
      "1    53426.915550  \n",
      "2     8057.196475  \n",
      "3     7153.079460  \n",
      "4    33837.046515  \n",
      "5     5060.607552  \n",
      "6     7013.620000  \n"
     ]
    }
   ],
   "source": [
    "# Atualizar as colunas\n",
    "\n",
    "# Preço de Compra = Preço Original * Cotação\n",
    "tabela['Preço de Compra'] = tabela['Preço Original'] * tabela['Cotação']\n",
    "\n",
    "# Preço de Venda = Preço de Compra * Margem\n",
    "tabela['Preço de Venda'] = tabela['Preço de Compra'] * tabela['Margem']\n",
    "\n",
    "print(tabela)"
   ]
  },
  {
   "cell_type": "markdown",
   "metadata": {},
   "source": [
    "#### Exportando a tabela atualizada"
   ]
  },
  {
   "cell_type": "code",
   "execution_count": 18,
   "metadata": {},
   "outputs": [],
   "source": [
    "# Exportar base de dados\n",
    "\n",
    "tabela.to_excel(\"Produtos Novo.xlsx\", index=False)"
   ]
  }
 ],
 "metadata": {
  "interpreter": {
   "hash": "1c087f2b0dd4f2e2d576d45e8f4fa99a15a8596f63133a61893277e3de838970"
  },
  "kernelspec": {
   "display_name": "Python 3.9.7 64-bit ('base': conda)",
   "language": "python",
   "name": "python3"
  },
  "language_info": {
   "codemirror_mode": {
    "name": "ipython",
    "version": 3
   },
   "file_extension": ".py",
   "mimetype": "text/x-python",
   "name": "python",
   "nbconvert_exporter": "python",
   "pygments_lexer": "ipython3",
   "version": "3.9.7"
  },
  "orig_nbformat": 4
 },
 "nbformat": 4,
 "nbformat_minor": 2
}
